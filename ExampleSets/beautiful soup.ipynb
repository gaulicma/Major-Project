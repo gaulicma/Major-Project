{
 "cells": [
  {
   "cell_type": "code",
   "execution_count": 37,
   "metadata": {},
   "outputs": [],
   "source": [
    "from urllib.request import urlopen as uReq\n",
    "from bs4 import BeautifulSoup as soup\n",
    "import re\n",
    "import time"
   ]
  },
  {
   "cell_type": "code",
   "execution_count": 44,
   "metadata": {},
   "outputs": [
    {
     "name": "stdout",
     "output_type": "stream",
     "text": [
      "https://exchange.xforce.ibmcloud.com/ip/192.168.12.10\n"
     ]
    }
   ],
   "source": [
    "value = '192.168.12.10'\n",
    "\n",
    "url = \"https://exchange.xforce.ibmcloud.com/ip/\"+ value +''\n",
    "\n",
    "print (url)\n",
    "r  = requests.get(url)\n",
    "time.sleep(5)\n",
    "page = r.text\n",
    "r.close()\n",
    "\n",
    "page_soup = soup(page,\"html.parser\")\n",
    "\n",
    "print (page_soup)\n",
    "containers = page_soup.findAll(\"div\",{\"class\":\"risklevelbar low\"})\n",
    "\n",
    "print (containers)\n"
   ]
  },
  {
   "cell_type": "code",
   "execution_count": 47,
   "metadata": {},
   "outputs": [],
   "source": [
    "from selenium import webdriver\n",
    "import pandas as pd\n",
    "import numpy as np\n",
    "import csv"
   ]
  },
  {
   "cell_type": "code",
   "execution_count": 57,
   "metadata": {},
   "outputs": [
    {
     "name": "stdout",
     "output_type": "stream",
     "text": [
      "1\n"
     ]
    }
   ],
   "source": [
    "driver = webdriver.Firefox()\n",
    "driver.set_page_load_timeout(50)\n",
    "\n",
    "# loop over dataframe, add 2 new columns for each row: 1. risk factor , category\n",
    "driver.get('https://exchange.xforce.ibmcloud.com/ip/192.168.90.144')\n",
    "\n",
    "#driver.maximize_window()\n",
    "driver.implicitly_wait(100)\n",
    "driver.find_element_by_id(\"termsCheckbox\").click()\n",
    "driver.find_element_by_class_name(\"guestlogin\").click()\n",
    "risk_factor = driver.find_element_by_class_name(\"scorebackgroundfilter.numtitle\").text\n",
    "print (risk_factor)\n",
    "driver.quit()\n",
    "    \n",
    "\n"
   ]
  }
 ],
 "metadata": {
  "kernelspec": {
   "display_name": "Python 3",
   "language": "python",
   "name": "python3"
  },
  "language_info": {
   "codemirror_mode": {
    "name": "ipython",
    "version": 3
   },
   "file_extension": ".py",
   "mimetype": "text/x-python",
   "name": "python",
   "nbconvert_exporter": "python",
   "pygments_lexer": "ipython3",
   "version": "3.5.2"
  }
 },
 "nbformat": 4,
 "nbformat_minor": 2
}
