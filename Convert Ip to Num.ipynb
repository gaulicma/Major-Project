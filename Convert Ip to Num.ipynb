{
 "cells": [
  {
   "cell_type": "code",
   "execution_count": 1,
   "metadata": {},
   "outputs": [],
   "source": [
    "import socket, struct\n",
    "from binascii import hexlify\n",
    "\n",
    "def ConvertIptoNum(ip):\n",
    "    try:\n",
    "        #convert decimal dotted quad string to long integer\n",
    "        return struct.unpack('>L',socket.inet_aton(ip))[0]\n",
    "    except Exception:\n",
    "        return int(hexlify(socket.inet_pton(socket.AF_INET6, ip)), 16)\n",
    "     "
   ]
  },
  {
   "cell_type": "markdown",
   "metadata": {},
   "source": [
    "## Open the csv file ( category-risk-numeric.csv)\n",
    "## loop ma ghumauni\n",
    "### take src-ip as ip\n",
    "## each ip address line ra ConvertIptoNum(ip) walla function ma pathauni\n",
    "## arko csv ma gareni huncha src-ip as ip => , risk-factor, categories save garne\n"
   ]
  },
  {
   "cell_type": "markdown",
   "metadata": {},
   "source": [
    "### Next time hamiharuu le new model ma train garna ko lagi pani yo function call bhayera matrai save garnu paryo"
   ]
  },
  {
   "cell_type": "code",
   "execution_count": null,
   "metadata": {},
   "outputs": [],
   "source": []
  }
 ],
 "metadata": {
  "kernelspec": {
   "display_name": "Python 3",
   "language": "python",
   "name": "python3"
  },
  "language_info": {
   "codemirror_mode": {
    "name": "ipython",
    "version": 2
   },
   "file_extension": ".py",
   "mimetype": "text/x-python",
   "name": "python",
   "nbconvert_exporter": "python",
   "pygments_lexer": "ipython2",
   "version": "2.7.12"
  }
 },
 "nbformat": 4,
 "nbformat_minor": 2
}
